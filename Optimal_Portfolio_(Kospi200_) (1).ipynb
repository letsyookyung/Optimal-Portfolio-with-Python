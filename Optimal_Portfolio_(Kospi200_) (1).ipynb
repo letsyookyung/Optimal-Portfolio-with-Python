{
  "nbformat": 4,
  "nbformat_minor": 0,
  "metadata": {
    "colab": {
      "name": "Optimal Portfolio (Kospi200 )",
      "provenance": [],
      "collapsed_sections": []
    },
    "kernelspec": {
      "name": "python3",
      "display_name": "Python 3"
    },
    "accelerator": "GPU"
  },
  "cells": [
    {
      "cell_type": "code",
      "metadata": {
        "id": "naMS1wZBMaBQ",
        "colab_type": "code",
        "colab": {
          "base_uri": "https://localhost:8080/",
          "height": 17
        },
        "outputId": "bf9ba1b7-d3f4-45e2-e845-c27737cfcf40"
      },
      "source": [
        "import numpy as np\n",
        "import pandas as pd\n",
        "import matplotlib.pyplot as plt\n",
        "import matplotlib as mpl \n",
        "import seaborn as sns\n",
        "import scipy.optimize as sco\n",
        "\n",
        "%matplotlib notebook\n",
        "%matplotlib inline\n",
        "\n",
        "from IPython.display import set_matplotlib_formats\n",
        "set_matplotlib_formats('retina')\n",
        "\n",
        "import matplotlib.font_manager as fm\n",
        "mpl.rcParams['font.family'] ='NanumGothic'\n",
        "plt.rcParams['axes.unicode_minus'] = False\n",
        "\n",
        "from IPython.core.display import display, HTML\n",
        "display(HTML(\"<style>.container { width:100% !important; }</style>\"))\n",
        "\n",
        "pd.set_option('display.max.colwidth',10)\n",
        "pd.options.display.max_columns = 100\n",
        "\n",
        "from IPython.core.interactiveshell import InteractiveShell\n",
        "InteractiveShell.ast_node_interactivity = \"all\""
      ],
      "execution_count": 2,
      "outputs": [
        {
          "output_type": "display_data",
          "data": {
            "text/html": [
              "<style>.container { width:100% !important; }</style>"
            ],
            "text/plain": [
              "<IPython.core.display.HTML object>"
            ]
          },
          "metadata": {
            "tags": []
          }
        }
      ]
    },
    {
      "cell_type": "markdown",
      "metadata": {
        "id": "rspMs385MnUP",
        "colab_type": "text"
      },
      "source": [
        "# 1) 코스피200(상위10개, 하위10개) 종목으로 최적 위험 포트폴리오 구성 "
      ]
    },
    {
      "cell_type": "markdown",
      "metadata": {
        "id": "zB0XuOciNGK4",
        "colab_type": "text"
      },
      "source": [
        "###  데이터셋 구성\n",
        "- weekly return"
      ]
    },
    {
      "cell_type": "code",
      "metadata": {
        "id": "BxFHitq1M-1i",
        "colab_type": "code",
        "colab": {
          "base_uri": "https://localhost:8080/",
          "height": 129
        },
        "outputId": "9bfdbcf4-e12d-4cfd-986c-f74275174ecb"
      },
      "source": [
        "# 260주, 217개 종목\n",
        "w_return = pd.read_csv('Week_Return.csv',encoding='cp949')\n",
        "w_return.set_index('Unnamed: 0',inplace=True)\n",
        "w_return.index.names = ['week']\n",
        "\n",
        "w_return = w_return.drop(columns=['Date','Week'],axis=1)\n",
        "\n",
        "# 2015 - 2019 / 상위10개,하위10개\n",
        "w_return = pd.concat([w_return.iloc[52:312,0:10],w_return.iloc[52:312,-10:217]],axis=1)\n",
        "w_return.shape\n",
        "\n",
        "# 종목들만 모은 ticker\n",
        "ticker = list(w_return.columns)\n",
        "\n",
        "w_return.index"
      ],
      "execution_count": 3,
      "outputs": [
        {
          "output_type": "execute_result",
          "data": {
            "text/plain": [
              "(260, 20)"
            ]
          },
          "metadata": {
            "tags": []
          },
          "execution_count": 3
        },
        {
          "output_type": "execute_result",
          "data": {
            "text/plain": [
              "Index(['15Y_week1', '15Y_week2', '15Y_week3', '15Y_week4', '15Y_week5',\n",
              "       '15Y_week6', '15Y_week7', '15Y_week8', '15Y_week9', '15Y_week10',\n",
              "       ...\n",
              "       '19Y_week43', '19Y_week44', '19Y_week45', '19Y_week46', '19Y_week47',\n",
              "       '19Y_week48', '19Y_week49', '19Y_week50', '19Y_week51', '19Y_week52'],\n",
              "      dtype='object', name='week', length=260)"
            ]
          },
          "metadata": {
            "tags": []
          },
          "execution_count": 3
        }
      ]
    },
    {
      "cell_type": "markdown",
      "metadata": {
        "id": "Z3mAmm4RyVyS",
        "colab_type": "text"
      },
      "source": [
        "- 시가총액"
      ]
    },
    {
      "cell_type": "code",
      "metadata": {
        "id": "hW5tCyNZyVfi",
        "colab_type": "code",
        "colab": {
          "base_uri": "https://localhost:8080/",
          "height": 36
        },
        "outputId": "ecab3f8c-56bd-4fac-9b79-e08a3f5fd8aa"
      },
      "source": [
        "# 시가총액  \n",
        "mkt_cap = pd.read_csv('Mkt_Cap.csv',encoding='cp949')\n",
        "mkt_cap.set_index('Unnamed: 0',inplace=True)\n",
        "mkt_cap.index.names = ['week']\n",
        "\n",
        "mkt_cap = mkt_cap.drop(columns=['Date','Week'],axis=1)\n",
        "\n",
        "# 2015 - 2019 / 상위10개,하위10개\n",
        "mkt_cap = pd.concat([w_return.iloc[0:312,0:10],w_return.iloc[0:312,-10:217]],axis=1)\n",
        "mkt_cap.shape"
      ],
      "execution_count": 4,
      "outputs": [
        {
          "output_type": "execute_result",
          "data": {
            "text/plain": [
              "(260, 20)"
            ]
          },
          "metadata": {
            "tags": []
          },
          "execution_count": 4
        }
      ]
    },
    {
      "cell_type": "markdown",
      "metadata": {
        "id": "EpfpcVlfyrmv",
        "colab_type": "text"
      },
      "source": [
        "- weekly price "
      ]
    },
    {
      "cell_type": "code",
      "metadata": {
        "id": "jDga1Bu_yw2C",
        "colab_type": "code",
        "colab": {
          "base_uri": "https://localhost:8080/",
          "height": 502
        },
        "outputId": "32d85737-7d0e-4c28-9b77-dda2be0baf3b"
      },
      "source": [
        "w_price = pd.read_csv('Week_Price.csv',encoding='cp949')\n",
        "w_price.set_index('Unnamed: 0',inplace=True)\n",
        "w_price.index.names = ['week']\n",
        "\n",
        "w_price = w_price.drop(columns=['Date','Week'],axis=1)\n",
        "\n",
        "# 2015 - 2019 / 상위10개,하위10개\n",
        "w_price = pd.concat([w_price.iloc[52:312,0:10],w_price.iloc[52:312,-10:217]],axis=1)\n",
        "w_price.shape\n",
        "w_price"
      ],
      "execution_count": 8,
      "outputs": [
        {
          "output_type": "execute_result",
          "data": {
            "text/plain": [
              "(260, 20)"
            ]
          },
          "metadata": {
            "tags": []
          },
          "execution_count": 8
        },
        {
          "output_type": "execute_result",
          "data": {
            "text/html": [
              "<div>\n",
              "<style scoped>\n",
              "    .dataframe tbody tr th:only-of-type {\n",
              "        vertical-align: middle;\n",
              "    }\n",
              "\n",
              "    .dataframe tbody tr th {\n",
              "        vertical-align: top;\n",
              "    }\n",
              "\n",
              "    .dataframe thead th {\n",
              "        text-align: right;\n",
              "    }\n",
              "</style>\n",
              "<table border=\"1\" class=\"dataframe\">\n",
              "  <thead>\n",
              "    <tr style=\"text-align: right;\">\n",
              "      <th></th>\n",
              "      <th>삼성전자</th>\n",
              "      <th>현대차</th>\n",
              "      <th>POSCO</th>\n",
              "      <th>현대모비스</th>\n",
              "      <th>SK하이닉스</th>\n",
              "      <th>NAVER</th>\n",
              "      <th>한국전력</th>\n",
              "      <th>삼성전자우</th>\n",
              "      <th>신한지주</th>\n",
              "      <th>기아차</th>\n",
              "      <th>서흥캅셀</th>\n",
              "      <th>한국단자</th>\n",
              "      <th>STX중공업</th>\n",
              "      <th>대원강업</th>\n",
              "      <th>태영건설</th>\n",
              "      <th>한화손해보험</th>\n",
              "      <th>JB금융지주</th>\n",
              "      <th>부광약품</th>\n",
              "      <th>부산가스</th>\n",
              "      <th>크라운제과</th>\n",
              "    </tr>\n",
              "    <tr>\n",
              "      <th>week</th>\n",
              "      <th></th>\n",
              "      <th></th>\n",
              "      <th></th>\n",
              "      <th></th>\n",
              "      <th></th>\n",
              "      <th></th>\n",
              "      <th></th>\n",
              "      <th></th>\n",
              "      <th></th>\n",
              "      <th></th>\n",
              "      <th></th>\n",
              "      <th></th>\n",
              "      <th></th>\n",
              "      <th></th>\n",
              "      <th></th>\n",
              "      <th></th>\n",
              "      <th></th>\n",
              "      <th></th>\n",
              "      <th></th>\n",
              "      <th></th>\n",
              "    </tr>\n",
              "  </thead>\n",
              "  <tbody>\n",
              "    <tr>\n",
              "      <th>15Y_week1</th>\n",
              "      <td>258.54...</td>\n",
              "      <td>149773...</td>\n",
              "      <td>242821...</td>\n",
              "      <td>228485...</td>\n",
              "      <td>44498....</td>\n",
              "      <td>145821...</td>\n",
              "      <td>36944....</td>\n",
              "      <td>5.658621</td>\n",
              "      <td>40391....</td>\n",
              "      <td>46994....</td>\n",
              "      <td>50852....</td>\n",
              "      <td>63647....</td>\n",
              "      <td>1804800.0</td>\n",
              "      <td>5240.9...</td>\n",
              "      <td>4923.8...</td>\n",
              "      <td>4365.0...</td>\n",
              "      <td>5605.0...</td>\n",
              "      <td>8192.8...</td>\n",
              "      <td>34081....</td>\n",
              "      <td>31239....</td>\n",
              "    </tr>\n",
              "    <tr>\n",
              "      <th>15Y_week2</th>\n",
              "      <td>255.24...</td>\n",
              "      <td>158243...</td>\n",
              "      <td>252830...</td>\n",
              "      <td>228485...</td>\n",
              "      <td>46973....</td>\n",
              "      <td>146016...</td>\n",
              "      <td>36724....</td>\n",
              "      <td>5.736982</td>\n",
              "      <td>39752....</td>\n",
              "      <td>47898....</td>\n",
              "      <td>48544....</td>\n",
              "      <td>58602....</td>\n",
              "      <td>1804800.0</td>\n",
              "      <td>5107.0...</td>\n",
              "      <td>5072.4...</td>\n",
              "      <td>4176.8...</td>\n",
              "      <td>5474.0...</td>\n",
              "      <td>8628.9...</td>\n",
              "      <td>32310....</td>\n",
              "      <td>30874....</td>\n",
              "    </tr>\n",
              "    <tr>\n",
              "      <th>15Y_week3</th>\n",
              "      <td>260.47...</td>\n",
              "      <td>153785...</td>\n",
              "      <td>237164...</td>\n",
              "      <td>241445...</td>\n",
              "      <td>43891....</td>\n",
              "      <td>151078...</td>\n",
              "      <td>34569....</td>\n",
              "      <td>5.770563</td>\n",
              "      <td>39432....</td>\n",
              "      <td>46542....</td>\n",
              "      <td>46670....</td>\n",
              "      <td>59766....</td>\n",
              "      <td>1804800.0</td>\n",
              "      <td>5330.2...</td>\n",
              "      <td>5072.4...</td>\n",
              "      <td>4054.5...</td>\n",
              "      <td>5511.4...</td>\n",
              "      <td>9042.0...</td>\n",
              "      <td>34751....</td>\n",
              "      <td>29488....</td>\n",
              "    </tr>\n",
              "    <tr>\n",
              "      <th>15Y_week4</th>\n",
              "      <td>269.40...</td>\n",
              "      <td>146653...</td>\n",
              "      <td>233682...</td>\n",
              "      <td>244805...</td>\n",
              "      <td>45058....</td>\n",
              "      <td>150104...</td>\n",
              "      <td>37559....</td>\n",
              "      <td>5.977654</td>\n",
              "      <td>42447....</td>\n",
              "      <td>41978....</td>\n",
              "      <td>47006....</td>\n",
              "      <td>62580....</td>\n",
              "      <td>1804800.0</td>\n",
              "      <td>5383.7...</td>\n",
              "      <td>4884.2...</td>\n",
              "      <td>4045.1...</td>\n",
              "      <td>5483.4...</td>\n",
              "      <td>9133.8...</td>\n",
              "      <td>35086....</td>\n",
              "      <td>30655....</td>\n",
              "    </tr>\n",
              "    <tr>\n",
              "      <th>15Y_week5</th>\n",
              "      <td>265.32...</td>\n",
              "      <td>152448...</td>\n",
              "      <td>221498...</td>\n",
              "      <td>239525...</td>\n",
              "      <td>43518....</td>\n",
              "      <td>138423...</td>\n",
              "      <td>38263....</td>\n",
              "      <td>5.932878</td>\n",
              "      <td>40894....</td>\n",
              "      <td>42069....</td>\n",
              "      <td>47006....</td>\n",
              "      <td>61804....</td>\n",
              "      <td>1804800.0</td>\n",
              "      <td>5365.9...</td>\n",
              "      <td>4844.6...</td>\n",
              "      <td>3927.5...</td>\n",
              "      <td>5436.6...</td>\n",
              "      <td>9294.4...</td>\n",
              "      <td>34847....</td>\n",
              "      <td>34013....</td>\n",
              "    </tr>\n",
              "    <tr>\n",
              "      <th>...</th>\n",
              "      <td>...</td>\n",
              "      <td>...</td>\n",
              "      <td>...</td>\n",
              "      <td>...</td>\n",
              "      <td>...</td>\n",
              "      <td>...</td>\n",
              "      <td>...</td>\n",
              "      <td>...</td>\n",
              "      <td>...</td>\n",
              "      <td>...</td>\n",
              "      <td>...</td>\n",
              "      <td>...</td>\n",
              "      <td>...</td>\n",
              "      <td>...</td>\n",
              "      <td>...</td>\n",
              "      <td>...</td>\n",
              "      <td>...</td>\n",
              "      <td>...</td>\n",
              "      <td>...</td>\n",
              "      <td>...</td>\n",
              "    </tr>\n",
              "    <tr>\n",
              "      <th>19Y_week48</th>\n",
              "      <td>50400....</td>\n",
              "      <td>121500...</td>\n",
              "      <td>232000...</td>\n",
              "      <td>246500...</td>\n",
              "      <td>80500....</td>\n",
              "      <td>171500...</td>\n",
              "      <td>28250....</td>\n",
              "      <td>41300....</td>\n",
              "      <td>43600....</td>\n",
              "      <td>42650....</td>\n",
              "      <td>34000....</td>\n",
              "      <td>40600....</td>\n",
              "      <td>3290.0</td>\n",
              "      <td>3370.0...</td>\n",
              "      <td>11500....</td>\n",
              "      <td>2835.0...</td>\n",
              "      <td>5390.0...</td>\n",
              "      <td>14047....</td>\n",
              "      <td>35700....</td>\n",
              "      <td>10600....</td>\n",
              "    </tr>\n",
              "    <tr>\n",
              "      <th>19Y_week49</th>\n",
              "      <td>51200....</td>\n",
              "      <td>119500...</td>\n",
              "      <td>233000...</td>\n",
              "      <td>252000...</td>\n",
              "      <td>80700....</td>\n",
              "      <td>175000...</td>\n",
              "      <td>28600....</td>\n",
              "      <td>41900....</td>\n",
              "      <td>44100....</td>\n",
              "      <td>43350....</td>\n",
              "      <td>34500....</td>\n",
              "      <td>41650....</td>\n",
              "      <td>3050.0</td>\n",
              "      <td>3300.0...</td>\n",
              "      <td>10950....</td>\n",
              "      <td>2715.0...</td>\n",
              "      <td>5470.0...</td>\n",
              "      <td>13714....</td>\n",
              "      <td>35950....</td>\n",
              "      <td>10550....</td>\n",
              "    </tr>\n",
              "    <tr>\n",
              "      <th>19Y_week50</th>\n",
              "      <td>54700....</td>\n",
              "      <td>119000...</td>\n",
              "      <td>242500...</td>\n",
              "      <td>260500...</td>\n",
              "      <td>88600....</td>\n",
              "      <td>179500...</td>\n",
              "      <td>27450....</td>\n",
              "      <td>45000....</td>\n",
              "      <td>44400....</td>\n",
              "      <td>44450....</td>\n",
              "      <td>34550....</td>\n",
              "      <td>44300....</td>\n",
              "      <td>3115.0</td>\n",
              "      <td>3410.0...</td>\n",
              "      <td>11200....</td>\n",
              "      <td>2745.0...</td>\n",
              "      <td>5600.0...</td>\n",
              "      <td>13571....</td>\n",
              "      <td>35750....</td>\n",
              "      <td>10700....</td>\n",
              "    </tr>\n",
              "    <tr>\n",
              "      <th>19Y_week51</th>\n",
              "      <td>55500....</td>\n",
              "      <td>122500...</td>\n",
              "      <td>243500...</td>\n",
              "      <td>260000...</td>\n",
              "      <td>94600....</td>\n",
              "      <td>184000...</td>\n",
              "      <td>27900....</td>\n",
              "      <td>45100....</td>\n",
              "      <td>45800....</td>\n",
              "      <td>44750....</td>\n",
              "      <td>34800....</td>\n",
              "      <td>42300....</td>\n",
              "      <td>3075.0</td>\n",
              "      <td>3405.0...</td>\n",
              "      <td>11250....</td>\n",
              "      <td>2850.0...</td>\n",
              "      <td>5700.0...</td>\n",
              "      <td>13857....</td>\n",
              "      <td>35800....</td>\n",
              "      <td>10650....</td>\n",
              "    </tr>\n",
              "    <tr>\n",
              "      <th>19Y_week52</th>\n",
              "      <td>55800....</td>\n",
              "      <td>120500...</td>\n",
              "      <td>236500...</td>\n",
              "      <td>256000...</td>\n",
              "      <td>94100....</td>\n",
              "      <td>186500...</td>\n",
              "      <td>27800....</td>\n",
              "      <td>45400....</td>\n",
              "      <td>43350....</td>\n",
              "      <td>44300....</td>\n",
              "      <td>35500....</td>\n",
              "      <td>42750....</td>\n",
              "      <td>3055.0</td>\n",
              "      <td>3395.0...</td>\n",
              "      <td>11950....</td>\n",
              "      <td>2825.0...</td>\n",
              "      <td>5490.0...</td>\n",
              "      <td>14350....</td>\n",
              "      <td>35700....</td>\n",
              "      <td>10400....</td>\n",
              "    </tr>\n",
              "  </tbody>\n",
              "</table>\n",
              "<p>260 rows × 20 columns</p>\n",
              "</div>"
            ],
            "text/plain": [
              "                 삼성전자        현대차      POSCO      현대모비스     SK하이닉스      NAVER  \\\n",
              "week                                                                           \n",
              "15Y_week1   258.54...  149773...  242821...  228485...  44498....  145821...   \n",
              "15Y_week2   255.24...  158243...  252830...  228485...  46973....  146016...   \n",
              "15Y_week3   260.47...  153785...  237164...  241445...  43891....  151078...   \n",
              "15Y_week4   269.40...  146653...  233682...  244805...  45058....  150104...   \n",
              "15Y_week5   265.32...  152448...  221498...  239525...  43518....  138423...   \n",
              "...               ...        ...        ...        ...        ...        ...   \n",
              "19Y_week48  50400....  121500...  232000...  246500...  80500....  171500...   \n",
              "19Y_week49  51200....  119500...  233000...  252000...  80700....  175000...   \n",
              "19Y_week50  54700....  119000...  242500...  260500...  88600....  179500...   \n",
              "19Y_week51  55500....  122500...  243500...  260000...  94600....  184000...   \n",
              "19Y_week52  55800....  120500...  236500...  256000...  94100....  186500...   \n",
              "\n",
              "                 한국전력      삼성전자우       신한지주        기아차       서흥캅셀       한국단자  \\\n",
              "week                                                                           \n",
              "15Y_week1   36944....   5.658621  40391....  46994....  50852....  63647....   \n",
              "15Y_week2   36724....   5.736982  39752....  47898....  48544....  58602....   \n",
              "15Y_week3   34569....   5.770563  39432....  46542....  46670....  59766....   \n",
              "15Y_week4   37559....   5.977654  42447....  41978....  47006....  62580....   \n",
              "15Y_week5   38263....   5.932878  40894....  42069....  47006....  61804....   \n",
              "...               ...        ...        ...        ...        ...        ...   \n",
              "19Y_week48  28250....  41300....  43600....  42650....  34000....  40600....   \n",
              "19Y_week49  28600....  41900....  44100....  43350....  34500....  41650....   \n",
              "19Y_week50  27450....  45000....  44400....  44450....  34550....  44300....   \n",
              "19Y_week51  27900....  45100....  45800....  44750....  34800....  42300....   \n",
              "19Y_week52  27800....  45400....  43350....  44300....  35500....  42750....   \n",
              "\n",
              "               STX중공업       대원강업       태영건설     한화손해보험     JB금융지주       부광약품  \\\n",
              "week                                                                           \n",
              "15Y_week1   1804800.0  5240.9...  4923.8...  4365.0...  5605.0...  8192.8...   \n",
              "15Y_week2   1804800.0  5107.0...  5072.4...  4176.8...  5474.0...  8628.9...   \n",
              "15Y_week3   1804800.0  5330.2...  5072.4...  4054.5...  5511.4...  9042.0...   \n",
              "15Y_week4   1804800.0  5383.7...  4884.2...  4045.1...  5483.4...  9133.8...   \n",
              "15Y_week5   1804800.0  5365.9...  4844.6...  3927.5...  5436.6...  9294.4...   \n",
              "...               ...        ...        ...        ...        ...        ...   \n",
              "19Y_week48     3290.0  3370.0...  11500....  2835.0...  5390.0...  14047....   \n",
              "19Y_week49     3050.0  3300.0...  10950....  2715.0...  5470.0...  13714....   \n",
              "19Y_week50     3115.0  3410.0...  11200....  2745.0...  5600.0...  13571....   \n",
              "19Y_week51     3075.0  3405.0...  11250....  2850.0...  5700.0...  13857....   \n",
              "19Y_week52     3055.0  3395.0...  11950....  2825.0...  5490.0...  14350....   \n",
              "\n",
              "                 부산가스      크라운제과  \n",
              "week                              \n",
              "15Y_week1   34081....  31239....  \n",
              "15Y_week2   32310....  30874....  \n",
              "15Y_week3   34751....  29488....  \n",
              "15Y_week4   35086....  30655....  \n",
              "15Y_week5   34847....  34013....  \n",
              "...               ...        ...  \n",
              "19Y_week48  35700....  10600....  \n",
              "19Y_week49  35950....  10550....  \n",
              "19Y_week50  35750....  10700....  \n",
              "19Y_week51  35800....  10650....  \n",
              "19Y_week52  35700....  10400....  \n",
              "\n",
              "[260 rows x 20 columns]"
            ]
          },
          "metadata": {
            "tags": []
          },
          "execution_count": 8
        }
      ]
    },
    {
      "cell_type": "markdown",
      "metadata": {
        "id": "8r6uWqvNm-2q",
        "colab_type": "text"
      },
      "source": [
        "### Equally weighted 포트폴리오"
      ]
    },
    {
      "cell_type": "code",
      "metadata": {
        "id": "D7pK5YU1nzOf",
        "colab_type": "code",
        "colab": {}
      },
      "source": [
        "noa = len(ticker)    # Number of Assets\n",
        "\n",
        "rets = w_return    # Weekly Log Return # shape(260,20)\n",
        "\n",
        "#1000개의 랜덤 가중치한 포트폴리오 구성\n",
        "ewrets = []\n",
        "ewvols = []\n",
        "for p in range(1000): \n",
        "    weights = np.array([1/len(ticker) for a in range(len(ticker))])\n",
        "    # rets.mean() * weights = shape(20,1)*shape(20,1) = 각 종목별 가중치한 평균 수익률 => sum하면 그 한 포트폴리오의 총 수익률 => *52 (연수익률)\n",
        "    ewrets.append(np.sum(rets.mean() * weights) * 52) \n",
        "    # weights.T, rets.cov, weights = shape(1,20 or 20,1이상..)(20,20)(20,1) = (1,1)\n",
        "    ewvols.append(np.sqrt(np.dot(weights.T,np.dot(rets.cov() * 52, weights))))\n",
        "    \n",
        "ewrets = np.array(ewrets)\n",
        "ewvols = np.array(ewvols)"
      ],
      "execution_count": 0,
      "outputs": []
    },
    {
      "cell_type": "markdown",
      "metadata": {
        "colab_type": "text",
        "id": "JMywrNuKtjxa"
      },
      "source": [
        "### Random weighted 포트폴리오"
      ]
    },
    {
      "cell_type": "code",
      "metadata": {
        "colab_type": "code",
        "id": "2fAjouAQtjxe",
        "colab": {}
      },
      "source": [
        "noa = len(ticker)    # Number of Assets\n",
        "\n",
        "rets = w_return    # Weekly Log Return # shape:(260,20)\n",
        "\n",
        "weights = np.random.random(noa)\n",
        "weights /= np.sum(weights) # shape:(217,)\n",
        "\n",
        "#1000개의 랜덤 가중치한 포트폴리오 구성\n",
        "rrets = []\n",
        "rvols = []\n",
        "for p in range(1000): \n",
        "    weights = np.random.random(noa)\n",
        "    weights /= np.sum(weights)\n",
        "    # rets.mean() * weights = shape(20,1)*shape(20,1) = 각 종목별 가중치한 평균 수익률 => sum하면 그 한 포트폴리오의 총 수익률 => *52 (연수익률)\n",
        "    rrets.append(np.sum(rets.mean() * weights) * 52) \n",
        "    # weights.T, rets.cov, weights = shape(1,20 or 20,1이상..)(20,20)(20,1) = (1,1)\n",
        "    rvols.append(np.sqrt(np.dot(weights.T,np.dot(rets.cov() * 52, weights))))\n",
        "    \n",
        "rrets = np.array(rrets)\n",
        "rvols = np.array(rvols)"
      ],
      "execution_count": 0,
      "outputs": []
    },
    {
      "cell_type": "markdown",
      "metadata": {
        "id": "HXGn_9TUKny6",
        "colab_type": "text"
      },
      "source": [
        "### scipy.minimize 함수 설명"
      ]
    },
    {
      "cell_type": "markdown",
      "metadata": {
        "id": "cM3mCXu_JdpQ",
        "colab_type": "text"
      },
      "source": [
        "* minimize(func, x0, jac=jac)  \n",
        "func: 목적함수  \n",
        "x0: 초깃값 벡터  \n",
        "jac: (옵션) 그레디언트 벡터를 출력하는 함수  \n",
        "\n",
        "------------------------------------------------------------------------------\n",
        "* minimize() 명령의 결과는 OptimizeResult 클래스 객체로 다음 속성을 가진다.  \n",
        "x: 최적화 해  \n",
        "success: 최적화에 성공하면 True 반환  \n",
        "status: 종료 상태. 최적화에 성공하면 0 반환  \n",
        "message: 메시지 문자열  \n",
        "fun: x 위치에서의 함수의 값  \n",
        "jac: x 위치에서의 자코비안(그레디언트) 벡터의 값  \n",
        "hess_inv: x 위치에서의 헤시안 행렬의 역행렬의 값  \n",
        "nfev: 목적함수 호출 횟수  \n",
        "njev: 자코비안 계산 횟수  \n",
        "nhev: 헤시안 계산 횟수  \n",
        "nit: x 이동 횟수  "
      ]
    },
    {
      "cell_type": "markdown",
      "metadata": {
        "id": "-__wn7Beb-OJ",
        "colab_type": "text"
      },
      "source": [
        "### Optimized weighted 포트폴리오 \n",
        "- weights가 목적인 함수"
      ]
    },
    {
      "cell_type": "code",
      "metadata": {
        "id": "VZfAnuyEJdBU",
        "colab_type": "code",
        "colab": {}
      },
      "source": [
        "def statistics(weights): \n",
        "    weights = np.array(weights)\n",
        "    ret = np.sum(rets.mean() * weights) * 52\n",
        "    vol = np.sqrt(np.dot(weights.T, np.dot(rets.cov() * 52, weights)))\n",
        "    return np.array([ret, vol, ret / vol])"
      ],
      "execution_count": 0,
      "outputs": []
    },
    {
      "cell_type": "markdown",
      "metadata": {
        "id": "6kxpiaKLdPjS",
        "colab_type": "text"
      },
      "source": [
        "- sharpe ratio "
      ]
    },
    {
      "cell_type": "code",
      "metadata": {
        "id": "h-LgCxZgMnoA",
        "colab_type": "code",
        "colab": {
          "base_uri": "https://localhost:8080/",
          "height": 92
        },
        "outputId": "87718a42-aa4e-4e67-e1f4-a4ab8b5f0d52"
      },
      "source": [
        "# Optimization 제약식\n",
        "cons = ({'type': 'eq', 'fun': lambda x: np.sum(x) - 1})\n",
        "bnds = tuple((0, 1) for x in range(noa)) \n",
        "\n",
        "# Sharpe Ratio\n",
        "def min_func_sharpe(weights):\n",
        "    return -statistics(weights)[2]\n",
        "\n",
        "opt_sr = sco.minimize(min_func_sharpe, noa*[1./noa,], method='SLSQP', bounds=bnds, constraints=cons)\n",
        "opt_sr['x'] # x = 최적화 해 = weights임 "
      ],
      "execution_count": 13,
      "outputs": [
        {
          "output_type": "execute_result",
          "data": {
            "text/plain": [
              "array([0.29605689, 0.        , 0.        , 0.        , 0.2869402 ,\n",
              "       0.02295363, 0.        , 0.        , 0.        , 0.        ,\n",
              "       0.        , 0.        , 0.        , 0.        , 0.28457727,\n",
              "       0.        , 0.        , 0.10947202, 0.        , 0.        ])"
            ]
          },
          "metadata": {
            "tags": []
          },
          "execution_count": 13
        }
      ]
    },
    {
      "cell_type": "code",
      "metadata": {
        "id": "fAC_v7KudPl6",
        "colab_type": "code",
        "colab": {}
      },
      "source": [
        "# trets= possible return -> tvols= 그 trets에서의 최대 Sharpe ratio인 포트폴리오의 분산 및 weight\n",
        "trets = np.linspace(rrets.min(), 0.5, 100)  # np.linspace(prets.min(), prets.max(), 100)  \n",
        "tvols_sr = []\n",
        "tweights_sr = []\n",
        "\n",
        "for tret in trets:    # 각각의 수익률에서\n",
        "    cons = ({'type': 'eq', 'fun': lambda x: statistics(x)[0] - tret},\n",
        "            {'type': 'eq', 'fun': lambda x: np.sum(x) - 1})\n",
        "    bnds = tuple((0, 1) for x in weights)\n",
        "    res = sco.minimize(min_func_sharpe, noa*[1./noa, ], method = 'SLSQP', bounds=bnds, constraints = cons)  # 분산이 최소인 것들 찾기\n",
        "    tvols_sr.append(res['fun'])\n",
        "    tweights_sr.append(res['x'])\n",
        "    \n",
        "tvols_sr = np.array(tvols_sr)\n",
        "tweights_sr = np.array(tweights_sr)"
      ],
      "execution_count": 0,
      "outputs": []
    },
    {
      "cell_type": "markdown",
      "metadata": {
        "id": "mU_ZL28OLsAa",
        "colab_type": "text"
      },
      "source": [
        "- minimum volatility 표준편차"
      ]
    },
    {
      "cell_type": "code",
      "metadata": {
        "id": "2EvW8iDYe5FW",
        "colab_type": "code",
        "colab": {
          "base_uri": "https://localhost:8080/",
          "height": 111
        },
        "outputId": "c95150c5-5742-4356-b81f-8da3bd3c6f25"
      },
      "source": [
        "# Optimization 제약식\n",
        "cons = ({'type': 'eq', 'fun': lambda x: np.sum(x) - 1})\n",
        "bnds = tuple((0, 1) for x in range(noa)) \n",
        "\n",
        "# Volatility\n",
        "def min_func_variance(weights):\n",
        "    return statistics(weights)[1] ** 2\n",
        "\n",
        "opt_v = sco.minimize(min_func_variance, noa*[1./noa,], method='SLSQP', bounds=bnds, constraints=cons)\n",
        "opt_v['x']"
      ],
      "execution_count": 15,
      "outputs": [
        {
          "output_type": "execute_result",
          "data": {
            "text/plain": [
              "array([0.00000000e+00, 2.06599556e-02, 7.47925841e-03, 0.00000000e+00,\n",
              "       7.52989570e-02, 2.45711021e-02, 6.75353700e-02, 3.16375820e-18,\n",
              "       1.02093541e-01, 9.95713663e-02, 1.66832156e-02, 5.77154736e-02,\n",
              "       1.89973362e-03, 4.93516876e-19, 0.00000000e+00, 4.79399432e-02,\n",
              "       2.80023876e-02, 0.00000000e+00, 4.50549696e-01, 0.00000000e+00])"
            ]
          },
          "metadata": {
            "tags": []
          },
          "execution_count": 15
        }
      ]
    },
    {
      "cell_type": "markdown",
      "metadata": {
        "id": "TqaFX74FL1EL",
        "colab_type": "text"
      },
      "source": [
        "- minimum variance 분산"
      ]
    },
    {
      "cell_type": "code",
      "metadata": {
        "id": "1RHYWZZDMnuT",
        "colab_type": "code",
        "colab": {}
      },
      "source": [
        "# variance\n",
        "def min_func_port(weights):\n",
        "    return statistics(weights)[1]\n",
        "\n",
        "# trets= possible return -> tvols= 그 trets에서의 최소 분산인 포트폴리오의 분산 및 weight\n",
        "trets = np.linspace(rrets.min(), 0.5, 100)  # np.linspace(rrets.min(), rrets.max(), 100)  \n",
        "tvols_mv = []\n",
        "tweights_mv = []\n",
        "\n",
        "for tret in trets:    # 각각의 수익률에서\n",
        "    cons = ({'type': 'eq', 'fun': lambda x: statistics(x)[0] - tret},\n",
        "            {'type': 'eq', 'fun': lambda x: np.sum(x) - 1})\n",
        "    bnds = tuple((0, 1) for x in weights)\n",
        "    res = sco.minimize(min_func_port, noa*[1./noa, ], method = 'SLSQP', bounds=bnds, constraints = cons)  # 분산이 최소인 것들 찾기\n",
        "    tvols_mv.append(res['fun'])\n",
        "    tweights_mv.append(res['x'])\n",
        "    \n",
        "tvols_mv = np.array(tvols_mv)\n",
        "tweights_mv = np.array(tweights_mv)"
      ],
      "execution_count": 0,
      "outputs": []
    },
    {
      "cell_type": "markdown",
      "metadata": {
        "id": "eE9Z7y2HsAIE",
        "colab_type": "text"
      },
      "source": [
        "### 결과 plotting"
      ]
    },
    {
      "cell_type": "code",
      "metadata": {
        "id": "zYD2gylItbz2",
        "colab_type": "code",
        "colab": {
          "base_uri": "https://localhost:8080/",
          "height": 319
        },
        "outputId": "f9314b29-11d0-4ff3-d5d3-bf10c39336ea"
      },
      "source": [
        "plt.figure(figsize=(9,4))\n",
        "cmap_lst = [plt.cm.rainbow, plt.cm.Blues, plt.cm.autumn, plt.cm.GnBu, plt.cm.Pastel2, plt.cm.Accent,]\n",
        "\n",
        "# 1000개 임의의 비율로 구성된 Portfolios + (c= rrets/vols) 추가하면 비율이나옴\n",
        "rw_porfolios = plt.scatter(rvols, rrets, c= rrets/rvols, cmap=cmap_lst[3], marker='o',alpha=0.5)  \n",
        "plt.colorbar(label = 'Sharpe Ratio',extend='max') # colorbar 화살표 방향\n",
        "ew_porfolios = plt.scatter(ewvols, ewrets, c = ewvols/ewrets, cmap=cmap_lst[0], marker='o', alpha=0.5 )\n",
        "# 동일한 수익률에서 분산이 최소인 Portfolios\n",
        "efficient_frontier = plt.scatter(tvols_mv, trets, c='black',marker='.',alpha=0.6) \n",
        "\n",
        "# 최대 Sharpe를 빨간 별로 표시 / 최소 분산을 보라색 별로 표시\n",
        "# optimal weights 넣은 statistics 함수의 return값 중 기대수익률과 표준편차\n",
        "plt.plot(statistics(opt_sr['x'])[1], statistics(opt_sr['x'])[0], marker='*', c='gold', markersize=16.0)\n",
        "plt.plot(statistics(opt_v['x'])[1], statistics(opt_v['x'])[0], marker='*', c='lightcoral', markersize=16.0) \n",
        "\n",
        "plt.legend((efficient_frontier, rw_porfolios, ew_porfolios), ('efficient frontier', 'rw_portfolios','ew_porfolios'), loc='upper left', shadow=False)\n",
        "plt.grid(True)\n",
        "plt.xlabel('expected volatility',size=12)\n",
        "plt.ylabel('expected return',size=12)\n",
        "\n",
        "plt.show()"
      ],
      "execution_count": 52,
      "outputs": [
        {
          "output_type": "execute_result",
          "data": {
            "text/plain": [
              "<Figure size 648x288 with 0 Axes>"
            ]
          },
          "metadata": {
            "tags": []
          },
          "execution_count": 52
        },
        {
          "output_type": "execute_result",
          "data": {
            "text/plain": [
              "<matplotlib.colorbar.Colorbar at 0x7f097e809ba8>"
            ]
          },
          "metadata": {
            "tags": []
          },
          "execution_count": 52
        },
        {
          "output_type": "execute_result",
          "data": {
            "text/plain": [
              "[<matplotlib.lines.Line2D at 0x7f097e85c5f8>]"
            ]
          },
          "metadata": {
            "tags": []
          },
          "execution_count": 52
        },
        {
          "output_type": "execute_result",
          "data": {
            "text/plain": [
              "[<matplotlib.lines.Line2D at 0x7f097e85c668>]"
            ]
          },
          "metadata": {
            "tags": []
          },
          "execution_count": 52
        },
        {
          "output_type": "execute_result",
          "data": {
            "text/plain": [
              "<matplotlib.legend.Legend at 0x7f097e85c630>"
            ]
          },
          "metadata": {
            "tags": []
          },
          "execution_count": 52
        },
        {
          "output_type": "execute_result",
          "data": {
            "text/plain": [
              "Text(0.5, 0, 'expected volatility')"
            ]
          },
          "metadata": {
            "tags": []
          },
          "execution_count": 52
        },
        {
          "output_type": "execute_result",
          "data": {
            "text/plain": [
              "Text(0, 0.5, 'expected return')"
            ]
          },
          "metadata": {
            "tags": []
          },
          "execution_count": 52
        },
        {
          "output_type": "display_data",
          "data": {
            "image/png": "[encoded data removed]",
            "text/plain": [
              "<Figure size 648x288 with 2 Axes>"
            ]
          },
          "metadata": {
            "tags": [],
            "image/png": {
              "width": 534,
              "height": 264
            }
          }
        }
      ]
    },
    {
      "cell_type": "code",
      "metadata": {
        "id": "YYzUOc4CMnx-",
        "colab_type": "code",
        "colab": {
          "base_uri": "https://localhost:8080/",
          "height": 413
        },
        "outputId": "c4f44712-a69b-4e22-81eb-c886c6a9637f"
      },
      "source": [
        "print('① Portpolio with Max Sharpe-ratio  \\n - expected return: {} \\n - expected volatility :{}'.format(statistics(opt_sr['x'])[0], statistics(opt_sr['x'])[1],))\n",
        "all_inv_sr = pd.DataFrame(tweights_sr[0],index=ticker, columns=['투자비율']).round(2).T\n",
        "all_inv_sr\n",
        "\n",
        "print('\\n② Portpolio with Min Variance   \\n - expected return: {} \\n - expected volatility :{} \\n - allocation of investment : \\n '.format(statistics(opt_v['x'])[0], statistics(opt_v['x'])[1]))\n",
        "all_inv_mv = pd.DataFrame(tweights_mv[0],index=ticker, columns=['투자비율']).round(2).T\n",
        "all_inv_mv"
      ],
      "execution_count": 32,
      "outputs": [
        {
          "output_type": "stream",
          "text": [
            "① Portpolio with Max Sharpe-ratio  \n",
            " - expected return: 0.42628769258430954 \n",
            " - expected volatility :0.36508322744530947\n"
          ],
          "name": "stdout"
        },
        {
          "output_type": "execute_result",
          "data": {
            "text/html": [
              "<div>\n",
              "<style scoped>\n",
              "    .dataframe tbody tr th:only-of-type {\n",
              "        vertical-align: middle;\n",
              "    }\n",
              "\n",
              "    .dataframe tbody tr th {\n",
              "        vertical-align: top;\n",
              "    }\n",
              "\n",
              "    .dataframe thead th {\n",
              "        text-align: right;\n",
              "    }\n",
              "</style>\n",
              "<table border=\"1\" class=\"dataframe\">\n",
              "  <thead>\n",
              "    <tr style=\"text-align: right;\">\n",
              "      <th></th>\n",
              "      <th>삼성전자</th>\n",
              "      <th>현대차</th>\n",
              "      <th>POSCO</th>\n",
              "      <th>현대모비스</th>\n",
              "      <th>SK하이닉스</th>\n",
              "      <th>NAVER</th>\n",
              "      <th>한국전력</th>\n",
              "      <th>삼성전자우</th>\n",
              "      <th>신한지주</th>\n",
              "      <th>기아차</th>\n",
              "      <th>서흥캅셀</th>\n",
              "      <th>한국단자</th>\n",
              "      <th>STX중공업</th>\n",
              "      <th>대원강업</th>\n",
              "      <th>태영건설</th>\n",
              "      <th>한화손해보험</th>\n",
              "      <th>JB금융지주</th>\n",
              "      <th>부광약품</th>\n",
              "      <th>부산가스</th>\n",
              "      <th>크라운제과</th>\n",
              "    </tr>\n",
              "  </thead>\n",
              "  <tbody>\n",
              "    <tr>\n",
              "      <th>투자비율</th>\n",
              "      <td>0.0</td>\n",
              "      <td>0.0</td>\n",
              "      <td>0.0</td>\n",
              "      <td>0.0</td>\n",
              "      <td>0.0</td>\n",
              "      <td>0.0</td>\n",
              "      <td>0.0</td>\n",
              "      <td>0.37</td>\n",
              "      <td>0.0</td>\n",
              "      <td>0.0</td>\n",
              "      <td>0.0</td>\n",
              "      <td>0.0</td>\n",
              "      <td>0.63</td>\n",
              "      <td>0.0</td>\n",
              "      <td>0.0</td>\n",
              "      <td>0.0</td>\n",
              "      <td>0.0</td>\n",
              "      <td>0.0</td>\n",
              "      <td>0.0</td>\n",
              "      <td>0.0</td>\n",
              "    </tr>\n",
              "  </tbody>\n",
              "</table>\n",
              "</div>"
            ],
            "text/plain": [
              "      삼성전자  현대차  POSCO  현대모비스  SK하이닉스  NAVER  한국전력  삼성전자우  신한지주  기아차  서흥캅셀  \\\n",
              "투자비율   0.0  0.0    0.0    0.0     0.0    0.0   0.0   0.37   0.0  0.0   0.0   \n",
              "\n",
              "      한국단자  STX중공업  대원강업  태영건설  한화손해보험  JB금융지주  부광약품  부산가스  크라운제과  \n",
              "투자비율   0.0    0.63   0.0   0.0     0.0     0.0   0.0   0.0    0.0  "
            ]
          },
          "metadata": {
            "tags": []
          },
          "execution_count": 32
        },
        {
          "output_type": "stream",
          "text": [
            "\n",
            "② Portpolio with Min Variance   \n",
            " - expected return: -0.003263787522628084 \n",
            " - expected volatility :0.09580325938203989 \n",
            " - allocation of investment : \n",
            " \n"
          ],
          "name": "stdout"
        },
        {
          "output_type": "execute_result",
          "data": {
            "text/html": [
              "<div>\n",
              "<style scoped>\n",
              "    .dataframe tbody tr th:only-of-type {\n",
              "        vertical-align: middle;\n",
              "    }\n",
              "\n",
              "    .dataframe tbody tr th {\n",
              "        vertical-align: top;\n",
              "    }\n",
              "\n",
              "    .dataframe thead th {\n",
              "        text-align: right;\n",
              "    }\n",
              "</style>\n",
              "<table border=\"1\" class=\"dataframe\">\n",
              "  <thead>\n",
              "    <tr style=\"text-align: right;\">\n",
              "      <th></th>\n",
              "      <th>삼성전자</th>\n",
              "      <th>현대차</th>\n",
              "      <th>POSCO</th>\n",
              "      <th>현대모비스</th>\n",
              "      <th>SK하이닉스</th>\n",
              "      <th>NAVER</th>\n",
              "      <th>한국전력</th>\n",
              "      <th>삼성전자우</th>\n",
              "      <th>신한지주</th>\n",
              "      <th>기아차</th>\n",
              "      <th>서흥캅셀</th>\n",
              "      <th>한국단자</th>\n",
              "      <th>STX중공업</th>\n",
              "      <th>대원강업</th>\n",
              "      <th>태영건설</th>\n",
              "      <th>한화손해보험</th>\n",
              "      <th>JB금융지주</th>\n",
              "      <th>부광약품</th>\n",
              "      <th>부산가스</th>\n",
              "      <th>크라운제과</th>\n",
              "    </tr>\n",
              "  </thead>\n",
              "  <tbody>\n",
              "    <tr>\n",
              "      <th>투자비율</th>\n",
              "      <td>0.0</td>\n",
              "      <td>0.04</td>\n",
              "      <td>0.0</td>\n",
              "      <td>0.0</td>\n",
              "      <td>0.0</td>\n",
              "      <td>0.0</td>\n",
              "      <td>0.11</td>\n",
              "      <td>0.0</td>\n",
              "      <td>0.03</td>\n",
              "      <td>0.1</td>\n",
              "      <td>0.01</td>\n",
              "      <td>0.13</td>\n",
              "      <td>0.08</td>\n",
              "      <td>0.02</td>\n",
              "      <td>0.0</td>\n",
              "      <td>0.12</td>\n",
              "      <td>0.0</td>\n",
              "      <td>0.0</td>\n",
              "      <td>0.35</td>\n",
              "      <td>0.02</td>\n",
              "    </tr>\n",
              "  </tbody>\n",
              "</table>\n",
              "</div>"
            ],
            "text/plain": [
              "      삼성전자   현대차  POSCO  현대모비스  SK하이닉스  NAVER  한국전력  삼성전자우  신한지주  기아차  서흥캅셀  \\\n",
              "투자비율   0.0  0.04    0.0    0.0     0.0    0.0  0.11    0.0  0.03  0.1  0.01   \n",
              "\n",
              "      한국단자  STX중공업  대원강업  태영건설  한화손해보험  JB금융지주  부광약품  부산가스  크라운제과  \n",
              "투자비율  0.13    0.08  0.02   0.0    0.12     0.0   0.0  0.35   0.02  "
            ]
          },
          "metadata": {
            "tags": []
          },
          "execution_count": 32
        }
      ]
    },
    {
      "cell_type": "code",
      "metadata": {
        "id": "6T3Jt2M0r0Uz",
        "colab_type": "code",
        "colab": {}
      },
      "source": [
        ""
      ],
      "execution_count": 0,
      "outputs": []
    },
    {
      "cell_type": "code",
      "metadata": {
        "id": "z_t53qmBMn59",
        "colab_type": "code",
        "colab": {}
      },
      "source": [
        ""
      ],
      "execution_count": 0,
      "outputs": []
    },
    {
      "cell_type": "code",
      "metadata": {
        "id": "lmvhOOkLMoDM",
        "colab_type": "code",
        "colab": {}
      },
      "source": [
        ""
      ],
      "execution_count": 0,
      "outputs": []
    },
    {
      "cell_type": "code",
      "metadata": {
        "id": "iaek0DhcMoIo",
        "colab_type": "code",
        "colab": {}
      },
      "source": [
        ""
      ],
      "execution_count": 0,
      "outputs": []
    },
    {
      "cell_type": "code",
      "metadata": {
        "id": "CFcKYFLoMoaE",
        "colab_type": "code",
        "colab": {}
      },
      "source": [
        ""
      ],
      "execution_count": 0,
      "outputs": []
    },
    {
      "cell_type": "code",
      "metadata": {
        "id": "k1AipZ5gMoXR",
        "colab_type": "code",
        "colab": {}
      },
      "source": [
        ""
      ],
      "execution_count": 0,
      "outputs": []
    },
    {
      "cell_type": "code",
      "metadata": {
        "id": "Xje4LkgVMoU_",
        "colab_type": "code",
        "colab": {}
      },
      "source": [
        ""
      ],
      "execution_count": 0,
      "outputs": []
    },
    {
      "cell_type": "code",
      "metadata": {
        "id": "Rj0zfF9MMoS2",
        "colab_type": "code",
        "colab": {}
      },
      "source": [
        ""
      ],
      "execution_count": 0,
      "outputs": []
    },
    {
      "cell_type": "code",
      "metadata": {
        "id": "39ART1fKMoRE",
        "colab_type": "code",
        "colab": {}
      },
      "source": [
        ""
      ],
      "execution_count": 0,
      "outputs": []
    },
    {
      "cell_type": "code",
      "metadata": {
        "id": "OG-PH1wkMoPo",
        "colab_type": "code",
        "colab": {}
      },
      "source": [
        ""
      ],
      "execution_count": 0,
      "outputs": []
    },
    {
      "cell_type": "code",
      "metadata": {
        "id": "CRPoHf7vMoMb",
        "colab_type": "code",
        "colab": {}
      },
      "source": [
        ""
      ],
      "execution_count": 0,
      "outputs": []
    },
    {
      "cell_type": "code",
      "metadata": {
        "id": "lHGrTScKMoBF",
        "colab_type": "code",
        "colab": {}
      },
      "source": [
        ""
      ],
      "execution_count": 0,
      "outputs": []
    },
    {
      "cell_type": "code",
      "metadata": {
        "id": "2cPd8IoVMn_v",
        "colab_type": "code",
        "colab": {}
      },
      "source": [
        ""
      ],
      "execution_count": 0,
      "outputs": []
    },
    {
      "cell_type": "code",
      "metadata": {
        "id": "XVbQpslgMn4K",
        "colab_type": "code",
        "colab": {}
      },
      "source": [
        ""
      ],
      "execution_count": 0,
      "outputs": []
    },
    {
      "cell_type": "code",
      "metadata": {
        "id": "nX-VNDAEMn1q",
        "colab_type": "code",
        "colab": {}
      },
      "source": [
        ""
      ],
      "execution_count": 0,
      "outputs": []
    }
  ]
}